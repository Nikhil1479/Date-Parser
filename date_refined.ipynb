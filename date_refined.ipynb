{
  "nbformat": 4,
  "nbformat_minor": 0,
  "metadata": {
    "colab": {
      "provenance": [],
      "authorship_tag": "ABX9TyNAvk6MlT0bLDXD3W8iKLqF",
      "include_colab_link": true
    },
    "kernelspec": {
      "name": "python3",
      "display_name": "Python 3"
    },
    "language_info": {
      "name": "python"
    }
  },
  "cells": [
    {
      "cell_type": "markdown",
      "metadata": {
        "id": "view-in-github",
        "colab_type": "text"
      },
      "source": [
        "<a href=\"https://colab.research.google.com/github/Nikhil1479/Date-Parser/blob/main/date_refined.ipynb\" target=\"_parent\"><img src=\"https://colab.research.google.com/assets/colab-badge.svg\" alt=\"Open In Colab\"/></a>"
      ]
    },
    {
      "cell_type": "code",
      "execution_count": 2,
      "metadata": {
        "colab": {
          "base_uri": "https://localhost:8080/"
        },
        "id": "nUtR-Y1myxeG",
        "outputId": "5b32b124-a2f7-46bb-de2b-ee164749ea34"
      },
      "outputs": [
        {
          "output_type": "stream",
          "name": "stdout",
          "text": [
            "Input text: I have a meeting scheduled for next jan. Let's meet next week to discuss it.\n",
            "Output text: I have a meeting scheduled for next jan. Let's meet 2024-05-23 to discuss it.\n"
          ]
        }
      ],
      "source": [
        "import re\n",
        "from datetime import datetime, timedelta\n",
        "\n",
        "def replace_dates_with_actual_dates(text):\n",
        "    # Regular expression to detect dates in the format DD/MM/YYYY\n",
        "    date_regex = r'(\\b\\d{1,2}/\\d{1,2}/\\d{4}\\b)'\n",
        "\n",
        "    # Regular expression to detect date words\n",
        "    date_words_regex = r'\\b(january|february|march|april|may|june|july|august|september|october|november|december)\\b'\n",
        "\n",
        "    # Regular expression to detect date expressions like \"tomorrow\", \"next week\", etc.\n",
        "    date_expressions_regex = r'\\b(tomorrow|today|yesterday|next\\s+week|last\\s+week|next\\s+month|last\\s+month|next\\s+year|last\\s+year)\\b'\n",
        "\n",
        "    # Function to replace detected dates with actual dates\n",
        "    def replace_date(match):\n",
        "        date_str = match.group(0)\n",
        "        return datetime.strptime(date_str, '%d/%m/%Y').strftime('%Y-%m-%d')\n",
        "\n",
        "    # Function to replace date words with actual dates\n",
        "    def replace_date_word(match):\n",
        "        word = match.group(0).lower()\n",
        "        current_date = datetime.now()\n",
        "        month_index = {\n",
        "            'january': 1, 'february': 2, 'march': 3, 'april': 4, 'may': 5, 'june': 6,\n",
        "            'july': 7, 'august': 8, 'september': 9, 'october': 10, 'november': 11, 'december': 12\n",
        "        }\n",
        "        month = month_index.get(word)\n",
        "        if month is not None:\n",
        "            return current_date.replace(month=month).strftime('%Y-%m-%d')\n",
        "        else:\n",
        "            return match.group(0)\n",
        "\n",
        "    # Function to replace date expressions with actual dates\n",
        "    def replace_date_expression(match):\n",
        "        expression = match.group(0).lower()\n",
        "        current_date = datetime.now()\n",
        "        if 'today' in expression:\n",
        "            return current_date.strftime('%Y-%m-%d')\n",
        "        elif 'tomorrow' in expression:\n",
        "            return (current_date + timedelta(days=1)).strftime('%Y-%m-%d')\n",
        "        elif 'yesterday' in expression:\n",
        "            return (current_date - timedelta(days=1)).strftime('%Y-%m-%d')\n",
        "        elif 'next week' in expression:\n",
        "            return (current_date + timedelta(weeks=1)).strftime('%Y-%m-%d')\n",
        "        elif 'last week' in expression:\n",
        "            return (current_date - timedelta(weeks=1)).strftime('%Y-%m-%d')\n",
        "        elif 'next month' in expression:\n",
        "            return (current_date + timedelta(days=30)).strftime('%Y-%m-%d')\n",
        "        elif 'last month' in expression:\n",
        "            return (current_date - timedelta(days=30)).strftime('%Y-%m-%d')\n",
        "        elif 'next year' in expression:\n",
        "            return (current_date + timedelta(days=365)).strftime('%Y-%m-%d')\n",
        "        elif 'last year' in expression:\n",
        "            return (current_date - timedelta(days=365)).strftime('%Y-%m-%d')\n",
        "        else:\n",
        "            return match.group(0)\n",
        "\n",
        "    # Replace detected dates with actual dates\n",
        "    text = re.sub(date_regex, replace_date, text)\n",
        "\n",
        "    # Replace date words with actual dates\n",
        "    text = re.sub(date_words_regex, replace_date_word, text, flags=re.IGNORECASE)\n",
        "\n",
        "    # Replace date expressions with actual dates\n",
        "    text = re.sub(date_expressions_regex, replace_date_expression, text, flags=re.IGNORECASE)\n",
        "\n",
        "    return text\n",
        "\n",
        "# Example usage\n",
        "input_text = \"I have a meeting scheduled for next jan. Let's meet next week to discuss it.\"\n",
        "output_text = replace_dates_with_actual_dates(input_text)\n",
        "print(\"Input text:\", input_text)\n",
        "print(\"Output text:\", output_text)\n"
      ]
    },
    {
      "cell_type": "code",
      "source": [
        "import re\n",
        "from datetime import datetime, timedelta\n",
        "\n",
        "def replace_date_words(text):\n",
        "    # Dictionary to map weekdays (full name or abbreviation) to their corresponding weekday index\n",
        "    weekdays_mapping = {\n",
        "        'monday': 0, 'mon': 0,\n",
        "        'tuesday': 1, 'tue': 1,\n",
        "        'wednesday': 2, 'wed': 2,\n",
        "        'thursday': 3, 'thu': 3,\n",
        "        'friday': 4, 'fri': 4,\n",
        "        'saturday': 5, 'sat': 5,\n",
        "        'sunday': 6, 'sun': 6\n",
        "    }\n",
        "\n",
        "    # Function to replace date words with actual dates\n",
        "    def replace_date_word(match):\n",
        "        word = match.group(0).lower()\n",
        "        current_date = datetime.now()\n",
        "\n",
        "        if word == 'today':\n",
        "            return current_date.strftime('%Y-%m-%d')\n",
        "        elif word == 'tomorrow':\n",
        "            return (current_date + timedelta(days=1)).strftime('%Y-%m-%d')\n",
        "        elif word in weekdays_mapping:\n",
        "            weekday_index = weekdays_mapping[word]\n",
        "            current_weekday = current_date.weekday()\n",
        "            days_until_target_weekday = (weekday_index - current_weekday + 7) % 7\n",
        "            target_date = current_date + timedelta(days=days_until_target_weekday)\n",
        "            return target_date.strftime('%Y-%m-%d')\n",
        "\n",
        "    # Regular expression to detect date words\n",
        "    date_words_regex = r'\\b(today|tomorrow|monday|mon|tuesday|tue|wednesday|wed|thursday|thu|friday|fri|saturday|sat|sunday|sun)\\b'\n",
        "\n",
        "    # Replace date words with actual dates\n",
        "    text = re.sub(date_words_regex, replace_date_word, text, flags=re.IGNORECASE)\n",
        "\n",
        "    return text\n",
        "\n",
        "# Example usage\n",
        "input_text = \"Let's meet tomorrow. The deadline is next Tue.\"\n",
        "output_text = replace_date_words(input_text)\n",
        "print(\"Input text:\", input_text)\n",
        "print(\"Output text:\", output_text)\n"
      ],
      "metadata": {
        "colab": {
          "base_uri": "https://localhost:8080/"
        },
        "id": "my0QG-6HyzJ9",
        "outputId": "342b6a91-8adb-4707-84d8-5dcf5dbbc097"
      },
      "execution_count": 13,
      "outputs": [
        {
          "output_type": "stream",
          "name": "stdout",
          "text": [
            "Input text: Let's meet tomorrow. The deadline is next Tue.\n",
            "Output text: Let's meet 2024-05-17. The deadline is next 2024-05-21.\n"
          ]
        }
      ]
    },
    {
      "cell_type": "code",
      "source": [
        "# Scenario 1: End of next week/month/quarter\n",
        "scenario1 = [\"End of next week\", \"End of next month\", \"End of next quarter\"]\n",
        "\n",
        "# Scenario 2: in three days, in five days etc.\n",
        "scenario2 = [\"In three days\", \"In five days\", \"In seven days\"]\n",
        "\n",
        "# Scenario 3: next week, next month etc.\n",
        "scenario3 = [\"Next week\", \"Next month\", \"Next quarter\"]\n",
        "\n",
        "# Scenario 4: specific dates such as 20th of May 2024\n",
        "scenario4 = [\"20th of May 2024\", \"25th of December 2025\", \"10th of October 2026\"]\n",
        "\n",
        "# Scenario 5: in the coming weeks\n",
        "scenario5 = [\"In the coming weeks\", \"In the upcoming weeks\", \"In the following weeks\"]\n",
        "\n",
        "# Scenario 6: in near future\n",
        "scenario6 = [\"In near future\", \"In the near future\", \"In the immediate future\"]\n",
        "\n",
        "# Scenario 7: before end of the month, end of the quarter\n",
        "scenario7 = [\"Before end of the month\", \"End of the quarter\", \"By the end of the month\"]\n",
        "\n",
        "# Scenario 8: tomorrow, day after tomorrow\n",
        "scenario8 = [\"Tomorrow\", \"Day after tomorrow\", \"Next day\"]\n",
        "\n",
        "# Scenario 9: 3 days later etc.\n",
        "scenario9 = [\"3 days later\", \"5 days later\", \"7 days later\"]\n",
        "\n",
        "# Scenario 10: Next Monday, next tuesday etc.\n",
        "scenario10 = [\"Next Monday\", \"Next Tuesday\", \"Next Wednesday\"]\n",
        "\n",
        "# Scenario 11: next to next Monday etc.\n",
        "scenario11 = [\"Next to next Monday\", \"Next to next Tuesday\", \"Next to next Wednesday\"]\n",
        "\n",
        "# Different ways of saying a past date\n",
        "past_scenarios = [\"Specific dates\", \"Yesterday\", \"Two weeks ago\", \"Last month\"]\n",
        "\n",
        "s = scenario1 + scenario2 + scenario3 + scenario4 + scenario5 + scenario6 + scenario7 + scenario8 + scenario9 + scenario10 + scenario11 + past_scenarios"
      ],
      "metadata": {
        "id": "T7HCzl8FMxK-"
      },
      "execution_count": 81,
      "outputs": []
    },
    {
      "cell_type": "code",
      "source": [
        "import re\n",
        "from datetime import datetime, timedelta\n",
        "\n",
        "def replace_date_words_and_expressions(text):\n",
        "    text = text.lower()\n",
        "    current_date = datetime.now()\n",
        "    # Dictionary to map date expressions to their respective timedelta values\n",
        "    date_expressions = {\n",
        "\n",
        "        'end of week': 6 - current_date.weekday(),\n",
        "        'end of month': ((current_date.replace(day=1).replace(month=current_date.month % 12 + 1) - timedelta(days=1)) - current_date).days,\n",
        "        'end of quarter': (((current_date.replace(day=1, month=(((current_date.month - 1) // 3 + 1) * 3)) + timedelta(days=32)).replace(day=1) - timedelta(days=1)) - current_date).days,\n",
        "        'end of year': (datetime(current_date.year, 12, 31) -  current_date).days + 1 ,\n",
        "\n",
        "        'end of next week': 6 - current_date.weekday() + 7,\n",
        "        'end of next month': (((current_date.replace(day=1, month=current_date.month + 1).replace(day=1) + timedelta(days=32)).replace(day=1) - timedelta(days=1)) - current_date).days,\n",
        "        'end of next quarter': (((current_date.replace(day=1, month=(((current_date.month - 1) // 3 + 1) * 3 + 1)).replace(day=1) + timedelta(days=90)).replace(day=1) - timedelta(days=1)) - current_date).days,\n",
        "        'end of next year': (datetime(current_date.year + 1, 12, 31) - current_date).days,\n",
        "\n",
        "        'next week': 7,\n",
        "        'next month': (((current_date.replace(day=1, month=current_date.month + 1).replace(day=1) + timedelta(days=32)).replace(day=1) - timedelta(days=1)) - current_date).days,\n",
        "        'next quarter': (current_date.replace(month=((current_date.month - 1) // 3) * 3 + 4, day=1) - current_date).days,\n",
        "        'next year': (datetime(current_date.year, 12, 31) -  current_date).days + 1 ,\n",
        "\n",
        "        'end of this week': 6 - current_date.weekday(),\n",
        "        'end of this month': ((current_date.replace(day=1).replace(month=current_date.month % 12 + 1) - timedelta(days=1)) - current_date).days,\n",
        "        'end of this quarter':(((current_date.replace(day=1, month=(((current_date.month - 1) // 3 + 1) * 3)) + timedelta(days=32)).replace(day=1) - timedelta(days=1)) - current_date).days,\n",
        "        'end of this year': (datetime(current_date.year, 12, 31) -  current_date).days + 1,\n",
        "\n",
        "        'end of the week': 6 - current_date.weekday(),\n",
        "        'end of the month': ((current_date.replace(day=1).replace(month=current_date.month % 12 + 1) - timedelta(days=1)) - current_date).days,\n",
        "        'end of the quarter':(((current_date.replace(day=1, month=(((current_date.month - 1) // 3 + 1) * 3)) + timedelta(days=32)).replace(day=1) - timedelta(days=1)) - current_date).days,\n",
        "        'end of the year': (datetime(current_date.year, 12, 31) -  current_date).days + 1,\n",
        "\n",
        "        'before the end of this week': 6 - current_date.weekday(),\n",
        "        'before the end of this month': ((current_date.replace(day=1).replace(month=current_date.month % 12 + 1) - timedelta(days=1)) - current_date).days,\n",
        "        'before the end of this quarter':(((current_date.replace(day=1, month=(((current_date.month - 1) // 3 + 1) * 3)) + timedelta(days=32)).replace(day=1) - timedelta(days=1)) - current_date).days,\n",
        "        'before the end of this year': (datetime(current_date.year, 12, 31) -  current_date).days - 1,\n",
        "\n",
        "        'tomorrow': 1,\n",
        "        'day after tomorrow': 2,\n",
        "\n",
        "        'in one day': 1,\n",
        "        'in two days': 2,\n",
        "        'in three days': 3,\n",
        "        'in four days': 4,\n",
        "        'in five days': 5,\n",
        "        'in six days': 6,\n",
        "        'in seven days': 7,\n",
        "\n",
        "        'one day later': 1,\n",
        "        'one days later': 1,\n",
        "        'two days later': 2,\n",
        "        'three days later': 3,\n",
        "        'four days later': 4,\n",
        "        'five days later': 5,\n",
        "        'six days later': 6,\n",
        "        'seven days later': 7,\n",
        "\n",
        "        'yesterday': -1,\n",
        "        'day before yesterday': -2,\n",
        "        'two days ago': -2,\n",
        "        'three days ago': -3,\n",
        "        'four days ago': -4,\n",
        "        'five days ago': -5,\n",
        "        'six days ago': -6,\n",
        "        'seven days ago': -7,\n",
        "\n",
        "        'one week ago': -7,\n",
        "        'two weeks ago': -14,\n",
        "        'three weeks ago': -21,\n",
        "        'four weeks ago': -28,\n",
        "\n",
        "        'mon': 0,\n",
        "        'tue': 1,\n",
        "        'wed': 2,\n",
        "        'thu': 3,\n",
        "        'fri': 4,\n",
        "        'sat': 5,\n",
        "        'sun': 6,\n",
        "\n",
        "        'monday': 0,\n",
        "        'tuesday': 1,\n",
        "        'wedesday': 2,\n",
        "        'thursday': 3,\n",
        "        'friday': 4,\n",
        "        'saturday': 5,\n",
        "        'sunday': 6,\n",
        "\n",
        "        'next mon': (0 - current_date.weekday()) % 7,\n",
        "        'next tue': (1 - current_date.weekday()) % 7,\n",
        "        'next wed': (2 - current_date.weekday()) % 7,\n",
        "        'next thu': (3 - current_date.weekday()) % 7,\n",
        "        'next fri': (4 - current_date.weekday()) % 7,\n",
        "        'next sat': (5 - current_date.weekday()) % 7,\n",
        "        'next sun': (6 - current_date.weekday()) % 7,\n",
        "\n",
        "        'next monday': (0 - current_date.weekday()) % 7,\n",
        "        'next tuesday': (1 - current_date.weekday()) % 7,\n",
        "        'next wedesday': (2 - current_date.weekday()) % 7,\n",
        "        'next thursday': (3 - current_date.weekday()) % 7,\n",
        "        'next friday': (4 - current_date.weekday()) % 7,\n",
        "        'next saturday': (5 - current_date.weekday()) % 7,\n",
        "        'next sunday': (6 - current_date.weekday()) % 7,\n",
        "\n",
        "        'Next to next Monday': 7 + (0 - current_date.weekday()) % 7,\n",
        "        'Next to next tuesday': 7 + (1 - current_date.weekday()) % 7,\n",
        "        'Next to next wedesday': 7 + (2 - current_date.weekday()) % 7,\n",
        "        'Next to next thursday': 7 +(3 - current_date.weekday()) % 7,\n",
        "        'Next to next friday': 7 + (4 - current_date.weekday()) % 7,\n",
        "        'Next to next saturday': 7 + (5 - current_date.weekday()) % 7,\n",
        "        'Next to next sunday': 7 + (6 - current_date.weekday()) % 7,\n",
        "\n",
        "        'Next to next mon': 7 + (0 - current_date.weekday()) % 7,\n",
        "        'Next to next tue': 7 + (1 - current_date.weekday()) % 7,\n",
        "        'Next to next wed': 7 + (2 - current_date.weekday()) % 7,\n",
        "        'Next to next thu': 7 +(3 - current_date.weekday()) % 7,\n",
        "        'Next to next fri': 7 + (4 - current_date.weekday()) % 7,\n",
        "        'Next to next sat': 7 + (5 - current_date.weekday()) % 7,\n",
        "        'Next to next sun': 7 + (6 - current_date.weekday()) % 7,\n",
        "\n",
        "        'last month': -(current_date - (current_date.replace(day=1) - timedelta(days=1))).days,\n",
        "        'last week': -7,\n",
        "        'last quarter': -(current_date - (datetime(current_date.year, (((current_date.month - 1) // 3) * 3), 1) - timedelta(days=1))).days,\n",
        "        'last year': -(current_date - (datetime(current_date.year - 1, 12, 31))).days\n",
        "    }\n",
        "\n",
        "    # Regular expression to detect date expressions\n",
        "    date_expressions_regex = r'\\b(' + '|'.join(map(re.escape, date_expressions.keys())) + r')\\b'\n",
        "    date_expressions = {k.lower(): v for k, v in date_expressions.items()}\n",
        "\n",
        "    # Function to replace date expressions with actual dates\n",
        "    def replace_date_expression(match):\n",
        "\n",
        "        expression = match.group(0).lower()\n",
        "        # print(date_expressions[expression])\n",
        "        return (current_date + timedelta(days=date_expressions[expression])).strftime('%Y-%m-%d')\n",
        "\n",
        "    # Replace date expressions with actual dates\n",
        "    text = re.sub(date_expressions_regex, replace_date_expression, text, flags=re.IGNORECASE)\n",
        "    return text\n",
        "\n",
        "# Example usage\n",
        "input_text = \"Let's meet next Tuesday. The deadline is before the last quarter .\"\n",
        "output_text = replace_date_words_and_expressions(input_text)\n",
        "print(\"Input text:\", input_text)\n",
        "print(\"Output text:\", output_text)\n"
      ],
      "metadata": {
        "colab": {
          "base_uri": "https://localhost:8080/"
        },
        "id": "mB3qimAizqIN",
        "outputId": "2eba5744-5c52-4220-b12c-a9eb20b424a1"
      },
      "execution_count": 120,
      "outputs": [
        {
          "output_type": "stream",
          "name": "stdout",
          "text": [
            "Input text: Let's meet next Tuesday. The deadline is before the last quarter .\n",
            "Output text: let's meet 2024-05-21. the deadline is before the 2024-02-29 .\n"
          ]
        }
      ]
    },
    {
      "cell_type": "code",
      "source": [
        "for k, v in date_expressions.items():\n",
        "  print(\"Input text:\", k)\n",
        "  output_text = replace_date_words_and_expressions(k)\n",
        "  print(\"Output text:\", output_text)"
      ],
      "metadata": {
        "colab": {
          "base_uri": "https://localhost:8080/"
        },
        "id": "QvrZ_tBNWl-l",
        "outputId": "cab9cd8a-092b-4c06-e8b2-859d2f30100f"
      },
      "execution_count": 121,
      "outputs": [
        {
          "output_type": "stream",
          "name": "stdout",
          "text": [
            "Input text: end of week\n",
            "Output text: 2024-05-19\n",
            "Input text: end of month\n",
            "Output text: 2024-05-31\n",
            "Input text: end of quarter\n",
            "Output text: 2024-06-30\n",
            "Input text: end of year\n",
            "Output text: 2024-12-31\n",
            "Input text: end of next week\n",
            "Output text: 2024-05-26\n",
            "Input text: end of next month\n",
            "Output text: 2024-06-30\n",
            "Input text: end of next quarter\n",
            "Output text: 2024-08-31\n",
            "Input text: end of next year\n",
            "Output text: 2025-12-30\n",
            "Input text: next week\n",
            "Output text: 2024-05-23\n",
            "Input text: next month\n",
            "Output text: 2024-06-30\n",
            "Input text: next quarter\n",
            "Output text: 2024-07-01\n",
            "Input text: next year\n",
            "Output text: 2024-12-31\n",
            "Input text: end of this week\n",
            "Output text: 2024-05-19\n",
            "Input text: end of this month\n",
            "Output text: 2024-05-31\n",
            "Input text: end of this quarter\n",
            "Output text: 2024-06-30\n",
            "Input text: end of this year\n",
            "Output text: 2024-12-31\n",
            "Input text: end of the week\n",
            "Output text: 2024-05-19\n",
            "Input text: end of the month\n",
            "Output text: 2024-05-31\n",
            "Input text: end of the quarter\n",
            "Output text: 2024-06-30\n",
            "Input text: end of the year\n",
            "Output text: 2024-12-31\n",
            "Input text: before the end of this week\n",
            "Output text: 2024-05-19\n",
            "Input text: before the end of this month\n",
            "Output text: 2024-05-31\n",
            "Input text: before the end of this quarter\n",
            "Output text: 2024-06-30\n",
            "Input text: before the end of this year\n",
            "Output text: 2024-12-29\n",
            "Input text: tomorrow\n",
            "Output text: 2024-05-17\n",
            "Input text: day after tomorrow\n",
            "Output text: 2024-05-18\n",
            "Input text: in one day\n",
            "Output text: 2024-05-17\n",
            "Input text: in two days\n",
            "Output text: 2024-05-18\n",
            "Input text: in three days\n",
            "Output text: 2024-05-19\n",
            "Input text: in four days\n",
            "Output text: 2024-05-20\n",
            "Input text: in five days\n",
            "Output text: 2024-05-21\n",
            "Input text: in six days\n",
            "Output text: 2024-05-22\n",
            "Input text: in seven days\n",
            "Output text: 2024-05-23\n",
            "Input text: one day later\n",
            "Output text: 2024-05-17\n",
            "Input text: one days later\n",
            "Output text: 2024-05-17\n",
            "Input text: two days later\n",
            "Output text: 2024-05-18\n",
            "Input text: three days later\n",
            "Output text: 2024-05-19\n",
            "Input text: four days later\n",
            "Output text: 2024-05-20\n",
            "Input text: five days later\n",
            "Output text: 2024-05-21\n",
            "Input text: six days later\n",
            "Output text: 2024-05-22\n",
            "Input text: seven days later\n",
            "Output text: 2024-05-23\n",
            "Input text: yesterday\n",
            "Output text: 2024-05-15\n",
            "Input text: day before yesterday\n",
            "Output text: 2024-05-14\n",
            "Input text: two days ago\n",
            "Output text: 2024-05-14\n",
            "Input text: three days ago\n",
            "Output text: 2024-05-13\n",
            "Input text: four days ago\n",
            "Output text: 2024-05-12\n",
            "Input text: five days ago\n",
            "Output text: 2024-05-11\n",
            "Input text: six days ago\n",
            "Output text: 2024-05-10\n",
            "Input text: seven days ago\n",
            "Output text: 2024-05-09\n",
            "Input text: one week ago\n",
            "Output text: 2024-05-09\n",
            "Input text: two weeks ago\n",
            "Output text: 2024-05-02\n",
            "Input text: three weeks ago\n",
            "Output text: 2024-04-25\n",
            "Input text: four weeks ago\n",
            "Output text: 2024-04-18\n",
            "Input text: mon\n",
            "Output text: 2024-05-16\n",
            "Input text: tue\n",
            "Output text: 2024-05-17\n",
            "Input text: wed\n",
            "Output text: 2024-05-18\n",
            "Input text: thu\n",
            "Output text: 2024-05-19\n",
            "Input text: fri\n",
            "Output text: 2024-05-20\n",
            "Input text: sat\n",
            "Output text: 2024-05-21\n",
            "Input text: sun\n",
            "Output text: 2024-05-22\n",
            "Input text: monday\n",
            "Output text: 2024-05-16\n",
            "Input text: tuesday\n",
            "Output text: 2024-05-17\n",
            "Input text: wedesday\n",
            "Output text: 2024-05-18\n",
            "Input text: thursday\n",
            "Output text: 2024-05-19\n",
            "Input text: friday\n",
            "Output text: 2024-05-20\n",
            "Input text: saturday\n",
            "Output text: 2024-05-21\n",
            "Input text: sunday\n",
            "Output text: 2024-05-22\n",
            "Input text: next mon\n",
            "Output text: 2024-05-20\n",
            "Input text: next tue\n",
            "Output text: 2024-05-21\n",
            "Input text: next wed\n",
            "Output text: 2024-05-22\n",
            "Input text: next thu\n",
            "Output text: 2024-05-16\n",
            "Input text: next fri\n",
            "Output text: 2024-05-17\n",
            "Input text: next sat\n",
            "Output text: 2024-05-18\n",
            "Input text: next sun\n",
            "Output text: 2024-05-19\n",
            "Input text: next monday\n",
            "Output text: 2024-05-20\n",
            "Input text: next tuesday\n",
            "Output text: 2024-05-21\n",
            "Input text: next wedesday\n",
            "Output text: 2024-05-22\n",
            "Input text: next thursday\n",
            "Output text: 2024-05-16\n",
            "Input text: next friday\n",
            "Output text: 2024-05-17\n",
            "Input text: next saturday\n",
            "Output text: 2024-05-18\n",
            "Input text: next sunday\n",
            "Output text: 2024-05-19\n",
            "Input text: Next to next Monday\n",
            "Output text: 2024-05-27\n",
            "Input text: Next to next tuesday\n",
            "Output text: 2024-05-28\n",
            "Input text: Next to next wedesday\n",
            "Output text: 2024-05-29\n",
            "Input text: Next to next thursday\n",
            "Output text: 2024-05-23\n",
            "Input text: Next to next friday\n",
            "Output text: 2024-05-24\n",
            "Input text: Next to next saturday\n",
            "Output text: 2024-05-25\n",
            "Input text: Next to next sunday\n",
            "Output text: 2024-05-26\n",
            "Input text: Next to next mon\n",
            "Output text: 2024-05-27\n",
            "Input text: Next to next tue\n",
            "Output text: 2024-05-28\n",
            "Input text: Next to next wed\n",
            "Output text: 2024-05-29\n",
            "Input text: Next to next thu\n",
            "Output text: 2024-05-23\n",
            "Input text: Next to next fri\n",
            "Output text: 2024-05-24\n",
            "Input text: Next to next sat\n",
            "Output text: 2024-05-25\n",
            "Input text: Next to next sun\n",
            "Output text: 2024-05-26\n",
            "Input text: last month\n",
            "Output text: 2024-04-30\n",
            "Input text: last week\n",
            "Output text: 2024-05-09\n",
            "Input text: last quarter\n",
            "Output text: 2024-02-29\n",
            "Input text: last year\n",
            "Output text: 2023-12-31\n"
          ]
        }
      ]
    },
    {
      "cell_type": "code",
      "source": [
        "for e in s:\n",
        "  print(\"Input text:\", e)\n",
        "  output_text = replace_date_words_and_expressions(e)\n",
        "  print(\"Output text:\", output_text)"
      ],
      "metadata": {
        "colab": {
          "base_uri": "https://localhost:8080/"
        },
        "id": "0B9dyZeYHGrw",
        "outputId": "fc02fd7c-5c2b-4978-d45d-89d4e3d3c623"
      },
      "execution_count": 113,
      "outputs": [
        {
          "output_type": "stream",
          "name": "stdout",
          "text": [
            "Input text: End of next week\n",
            "10\n",
            "Output text: 2024-05-26\n",
            "Input text: End of next month\n",
            "45\n",
            "Output text: 2024-06-30\n",
            "Input text: End of next quarter\n",
            "107\n",
            "Output text: 2024-08-31\n",
            "Input text: In three days\n",
            "3\n",
            "Output text: 2024-05-19\n",
            "Input text: In five days\n",
            "5\n",
            "Output text: 2024-05-21\n",
            "Input text: In seven days\n",
            "7\n",
            "Output text: 2024-05-23\n",
            "Input text: Next week\n",
            "7\n",
            "Output text: 2024-05-23\n",
            "Input text: Next month\n",
            "45\n",
            "Output text: 2024-06-30\n",
            "Input text: Next quarter\n",
            "46\n",
            "Output text: 2024-07-01\n",
            "Input text: 20th of May 2024\n",
            "Output text: 20th of may 2024\n",
            "Input text: 25th of December 2025\n",
            "Output text: 25th of december 2025\n",
            "Input text: 10th of October 2026\n",
            "Output text: 10th of october 2026\n",
            "Input text: In the coming weeks\n",
            "Output text: in the coming weeks\n",
            "Input text: In the upcoming weeks\n",
            "Output text: in the upcoming weeks\n",
            "Input text: In the following weeks\n",
            "Output text: in the following weeks\n",
            "Input text: In near future\n",
            "Output text: in near future\n",
            "Input text: In the near future\n",
            "Output text: in the near future\n",
            "Input text: In the immediate future\n",
            "Output text: in the immediate future\n",
            "Input text: Before end of the month\n",
            "15\n",
            "Output text: before 2024-05-31\n",
            "Input text: End of the quarter\n",
            "45\n",
            "Output text: 2024-06-30\n",
            "Input text: By the end of the month\n",
            "15\n",
            "Output text: by the 2024-05-31\n",
            "Input text: Tomorrow\n",
            "1\n",
            "Output text: 2024-05-17\n",
            "Input text: Day after tomorrow\n",
            "2\n",
            "Output text: 2024-05-18\n",
            "Input text: Next day\n",
            "Output text: next day\n",
            "Input text: 3 days later\n",
            "Output text: 3 days later\n",
            "Input text: 5 days later\n",
            "Output text: 5 days later\n",
            "Input text: 7 days later\n",
            "Output text: 7 days later\n",
            "Input text: Next Monday\n",
            "4\n",
            "Output text: 2024-05-20\n",
            "Input text: Next Tuesday\n",
            "5\n",
            "Output text: 2024-05-21\n",
            "Input text: Next Wednesday\n",
            "Output text: next wednesday\n",
            "Input text: Next to next Monday\n",
            "11\n",
            "Output text: 2024-05-27\n",
            "Input text: Next to next Tuesday\n",
            "12\n",
            "Output text: 2024-05-28\n",
            "Input text: Next to next Wednesday\n",
            "Output text: next to next wednesday\n",
            "Input text: Specific dates\n",
            "Output text: specific dates\n",
            "Input text: Yesterday\n",
            "-1\n",
            "Output text: 2024-05-15\n",
            "Input text: Two weeks ago\n",
            "-14\n",
            "Output text: 2024-05-02\n",
            "Input text: Last month\n",
            "-16\n",
            "Output text: 2024-04-30\n"
          ]
        }
      ]
    },
    {
      "cell_type": "code",
      "source": [],
      "metadata": {
        "id": "7FyM1BnKUowM"
      },
      "execution_count": null,
      "outputs": []
    },
    {
      "cell_type": "code",
      "source": [
        "datetime.now() + timedelta(days=(6 - datetime.now().weekday()) % 7)"
      ],
      "metadata": {
        "colab": {
          "base_uri": "https://localhost:8080/"
        },
        "id": "aFETQweF4Ptj",
        "outputId": "d65d9f22-2c3a-41a3-f643-ebe2d1bd64fd"
      },
      "execution_count": 18,
      "outputs": [
        {
          "output_type": "execute_result",
          "data": {
            "text/plain": [
              "datetime.datetime(2024, 5, 19, 10, 32, 21, 49270)"
            ]
          },
          "metadata": {},
          "execution_count": 18
        }
      ]
    },
    {
      "cell_type": "code",
      "source": [
        "(datetime.now().replace(day=1, month=datetime.now().month + 1) - datetime.now()).days"
      ],
      "metadata": {
        "colab": {
          "base_uri": "https://localhost:8080/"
        },
        "id": "Ue6aDkAs9W7C",
        "outputId": "e6eb0cef-72b6-4a01-bf99-6bb72348323e"
      },
      "execution_count": 21,
      "outputs": [
        {
          "output_type": "execute_result",
          "data": {
            "text/plain": [
              "15"
            ]
          },
          "metadata": {},
          "execution_count": 21
        }
      ]
    },
    {
      "cell_type": "code",
      "source": [
        "current_date = datetime.now()\n",
        "print(current_date)"
      ],
      "metadata": {
        "colab": {
          "base_uri": "https://localhost:8080/"
        },
        "id": "As0xeLhh9pDt",
        "outputId": "51143c27-74d2-408c-f80a-6fae935a1d9d"
      },
      "execution_count": 47,
      "outputs": [
        {
          "output_type": "stream",
          "name": "stdout",
          "text": [
            "2024-05-16 11:01:56.533776\n"
          ]
        }
      ]
    },
    {
      "cell_type": "code",
      "source": [
        "current_date = datetime.now()\n",
        "\n",
        "(current_date - (current_date.replace(day=1) - timedelta(days=1))).days"
      ],
      "metadata": {
        "colab": {
          "base_uri": "https://localhost:8080/"
        },
        "id": "wFiPmXHgBej1",
        "outputId": "5495802c-eb09-404e-c990-ed0fdc74a719"
      },
      "execution_count": 44,
      "outputs": [
        {
          "output_type": "execute_result",
          "data": {
            "text/plain": [
              "16"
            ]
          },
          "metadata": {},
          "execution_count": 44
        }
      ]
    },
    {
      "cell_type": "code",
      "source": [
        "from datetime import datetime, timedelta\n",
        "\n",
        "def days_until_last_day():\n",
        "    current_date = datetime.now()\n",
        "    days_in_month = (current_date.replace(day=28) + timedelta(days=4)).day\n",
        "    return days_in_month - current_date.day\n",
        "\n",
        "def days_until_last_month():\n",
        "    current_date = datetime.now()\n",
        "    last_month = current_date.replace(day=1) - timedelta(days=1)\n",
        "    return (current_date - last_month).days\n",
        "\n",
        "def days_until_last_quarter():\n",
        "    current_date = datetime.now()\n",
        "    return (current_date - (datetime(current_date.year, (((current_date.month - 1) // 3) * 3), 1) - timedelta(days=1))).days\n",
        "\n",
        "def days_until_last_year():\n",
        "    current_date = datetime.now()\n",
        "    return (current_date - (datetime(current_date.year - 1, 12, 31))).days\n",
        "\n",
        "# Example usage\n",
        "print(\"Days until last day:\", days_until_last_day())\n",
        "print(\"Days until last month:\", days_until_last_month())\n",
        "print(\"Days until last quarter:\", days_until_last_quarter())\n",
        "print(\"Days until last year:\", days_until_last_year())\n"
      ],
      "metadata": {
        "colab": {
          "base_uri": "https://localhost:8080/"
        },
        "id": "Q_4bi5io-TF0",
        "outputId": "b3d66f1e-1c67-4ea5-9604-c0e3491c464c"
      },
      "execution_count": 49,
      "outputs": [
        {
          "output_type": "stream",
          "name": "stdout",
          "text": [
            "Days until last day: -15\n",
            "Days until last month: 16\n",
            "Days until last quarter: 77\n",
            "Days until last year: 137\n"
          ]
        }
      ]
    },
    {
      "cell_type": "code",
      "source": [
        "((current_date.replace(day=1, month=current_date.month + 1) + timedelta(days=32)).replace(day=1) - current_date.replace(day=1)).days"
      ],
      "metadata": {
        "colab": {
          "base_uri": "https://localhost:8080/"
        },
        "id": "X9RJrW57AFKu",
        "outputId": "f025be6d-aef0-4b7c-b15b-46fc78a2e8b6"
      },
      "execution_count": 65,
      "outputs": [
        {
          "output_type": "execute_result",
          "data": {
            "text/plain": [
              "61"
            ]
          },
          "metadata": {},
          "execution_count": 65
        }
      ]
    },
    {
      "cell_type": "code",
      "source": [],
      "metadata": {
        "id": "g-HDRGusJDlN"
      },
      "execution_count": null,
      "outputs": []
    }
  ]
}